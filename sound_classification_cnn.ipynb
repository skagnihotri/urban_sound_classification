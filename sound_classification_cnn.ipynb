{
  "nbformat": 4,
  "nbformat_minor": 0,
  "metadata": {
    "colab": {
      "name": "sound classification cnn.ipynb",
      "version": "0.3.2",
      "provenance": [],
      "collapsed_sections": [],
      "include_colab_link": true
    },
    "kernelspec": {
      "name": "python3",
      "display_name": "Python 3"
    },
    "accelerator": "GPU"
  },
  "cells": [
    {
      "cell_type": "markdown",
      "metadata": {
        "id": "view-in-github",
        "colab_type": "text"
      },
      "source": [
        "<a href=\"https://colab.research.google.com/github/skagnihotri/urban_sound_classification/blob/master/sound_classification_cnn.ipynb\" target=\"_parent\"><img src=\"https://colab.research.google.com/assets/colab-badge.svg\" alt=\"Open In Colab\"/></a>"
      ]
    },
    {
      "cell_type": "code",
      "metadata": {
        "id": "0nfPYXl7Aq0o",
        "colab_type": "code",
        "outputId": "045b1a40-6475-448c-f575-6c5df1cbb44d",
        "colab": {
          "base_uri": "https://localhost:8080/",
          "height": 125
        }
      },
      "source": [
        "from google.colab import drive\n",
        "drive.mount('/content/drive')"
      ],
      "execution_count": 1,
      "outputs": [
        {
          "output_type": "stream",
          "text": [
            "Go to this URL in a browser: https://accounts.google.com/o/oauth2/auth?client_id=947318989803-6bn6qk8qdgf4n4g3pfee6491hc0brc4i.apps.googleusercontent.com&redirect_uri=urn%3Aietf%3Awg%3Aoauth%3A2.0%3Aoob&scope=email%20https%3A%2F%2Fwww.googleapis.com%2Fauth%2Fdocs.test%20https%3A%2F%2Fwww.googleapis.com%2Fauth%2Fdrive%20https%3A%2F%2Fwww.googleapis.com%2Fauth%2Fdrive.photos.readonly%20https%3A%2F%2Fwww.googleapis.com%2Fauth%2Fpeopleapi.readonly&response_type=code\n",
            "\n",
            "Enter your authorization code:\n",
            "··········\n",
            "Mounted at /content/drive\n"
          ],
          "name": "stdout"
        }
      ]
    },
    {
      "cell_type": "code",
      "metadata": {
        "id": "LDAkibwkAt5q",
        "colab_type": "code",
        "colab": {}
      },
      "source": [
        "import numpy as np\n",
        "import pandas as pd\n",
        "import matplotlib.pyplot as plt\n",
        "%matplotlib inline"
      ],
      "execution_count": 0,
      "outputs": []
    },
    {
      "cell_type": "code",
      "metadata": {
        "id": "gea5FkLuBk5I",
        "colab_type": "code",
        "colab": {}
      },
      "source": [
        "data = pd.read_csv('/content/drive/My Drive/urban sound dataset/ content UrbanSound8K metadata UrbanSound8K.csv')"
      ],
      "execution_count": 0,
      "outputs": []
    },
    {
      "cell_type": "code",
      "metadata": {
        "id": "XRPg30qeByrB",
        "colab_type": "code",
        "outputId": "b0e36a60-b24c-43d9-c15f-c3aae0158949",
        "colab": {
          "base_uri": "https://localhost:8080/",
          "height": 195
        }
      },
      "source": [
        "data.head()"
      ],
      "execution_count": 4,
      "outputs": [
        {
          "output_type": "execute_result",
          "data": {
            "text/html": [
              "<div>\n",
              "<style scoped>\n",
              "    .dataframe tbody tr th:only-of-type {\n",
              "        vertical-align: middle;\n",
              "    }\n",
              "\n",
              "    .dataframe tbody tr th {\n",
              "        vertical-align: top;\n",
              "    }\n",
              "\n",
              "    .dataframe thead th {\n",
              "        text-align: right;\n",
              "    }\n",
              "</style>\n",
              "<table border=\"1\" class=\"dataframe\">\n",
              "  <thead>\n",
              "    <tr style=\"text-align: right;\">\n",
              "      <th></th>\n",
              "      <th>slice_file_name</th>\n",
              "      <th>fsID</th>\n",
              "      <th>start</th>\n",
              "      <th>end</th>\n",
              "      <th>salience</th>\n",
              "      <th>fold</th>\n",
              "      <th>classID</th>\n",
              "      <th>class</th>\n",
              "    </tr>\n",
              "  </thead>\n",
              "  <tbody>\n",
              "    <tr>\n",
              "      <th>0</th>\n",
              "      <td>100032-3-0-0.wav</td>\n",
              "      <td>100032</td>\n",
              "      <td>0.0</td>\n",
              "      <td>0.317551</td>\n",
              "      <td>1</td>\n",
              "      <td>5</td>\n",
              "      <td>3</td>\n",
              "      <td>dog_bark</td>\n",
              "    </tr>\n",
              "    <tr>\n",
              "      <th>1</th>\n",
              "      <td>100263-2-0-117.wav</td>\n",
              "      <td>100263</td>\n",
              "      <td>58.5</td>\n",
              "      <td>62.500000</td>\n",
              "      <td>1</td>\n",
              "      <td>5</td>\n",
              "      <td>2</td>\n",
              "      <td>children_playing</td>\n",
              "    </tr>\n",
              "    <tr>\n",
              "      <th>2</th>\n",
              "      <td>100263-2-0-121.wav</td>\n",
              "      <td>100263</td>\n",
              "      <td>60.5</td>\n",
              "      <td>64.500000</td>\n",
              "      <td>1</td>\n",
              "      <td>5</td>\n",
              "      <td>2</td>\n",
              "      <td>children_playing</td>\n",
              "    </tr>\n",
              "    <tr>\n",
              "      <th>3</th>\n",
              "      <td>100263-2-0-126.wav</td>\n",
              "      <td>100263</td>\n",
              "      <td>63.0</td>\n",
              "      <td>67.000000</td>\n",
              "      <td>1</td>\n",
              "      <td>5</td>\n",
              "      <td>2</td>\n",
              "      <td>children_playing</td>\n",
              "    </tr>\n",
              "    <tr>\n",
              "      <th>4</th>\n",
              "      <td>100263-2-0-137.wav</td>\n",
              "      <td>100263</td>\n",
              "      <td>68.5</td>\n",
              "      <td>72.500000</td>\n",
              "      <td>1</td>\n",
              "      <td>5</td>\n",
              "      <td>2</td>\n",
              "      <td>children_playing</td>\n",
              "    </tr>\n",
              "  </tbody>\n",
              "</table>\n",
              "</div>"
            ],
            "text/plain": [
              "      slice_file_name    fsID  start  ...  fold  classID             class\n",
              "0    100032-3-0-0.wav  100032    0.0  ...     5        3          dog_bark\n",
              "1  100263-2-0-117.wav  100263   58.5  ...     5        2  children_playing\n",
              "2  100263-2-0-121.wav  100263   60.5  ...     5        2  children_playing\n",
              "3  100263-2-0-126.wav  100263   63.0  ...     5        2  children_playing\n",
              "4  100263-2-0-137.wav  100263   68.5  ...     5        2  children_playing\n",
              "\n",
              "[5 rows x 8 columns]"
            ]
          },
          "metadata": {
            "tags": []
          },
          "execution_count": 4
        }
      ]
    },
    {
      "cell_type": "code",
      "metadata": {
        "id": "Xv6rOsjUB1VO",
        "colab_type": "code",
        "colab": {}
      },
      "source": [
        "X_train = pd.read_csv('/content/drive/My Drive/urban sound dataset/ content train_data.csv')\n",
        "X_test = pd.read_csv('/content/drive/My Drive/urban sound dataset/ content test_data.csv')\n",
        "y_train = pd.read_csv('/content/drive/My Drive/urban sound dataset/ content train_labels.csv')\n",
        "y_test = pd.read_csv('/content/drive/My Drive/urban sound dataset/ content test_labels.csv')"
      ],
      "execution_count": 0,
      "outputs": []
    },
    {
      "cell_type": "code",
      "metadata": {
        "id": "3mYUIhZCCWpP",
        "colab_type": "code",
        "outputId": "d571cdd3-ee10-4dcb-a254-9f7ce6779a89",
        "colab": {
          "base_uri": "https://localhost:8080/",
          "height": 34
        }
      },
      "source": [
        "X_train = X_train.values\n",
        "X_test = X_test.values\n",
        "y_train = y_train.values\n",
        "y_test = y_test.values\n",
        "\n",
        "X_test.shape, y_test.shape"
      ],
      "execution_count": 6,
      "outputs": [
        {
          "output_type": "execute_result",
          "data": {
            "text/plain": [
              "((836, 6960), (836, 1))"
            ]
          },
          "metadata": {
            "tags": []
          },
          "execution_count": 6
        }
      ]
    },
    {
      "cell_type": "code",
      "metadata": {
        "id": "jknHujDLCt51",
        "colab_type": "code",
        "outputId": "5038e737-a592-41c5-8d4b-4113616a8a2d",
        "colab": {
          "base_uri": "https://localhost:8080/",
          "height": 34
        }
      },
      "source": [
        "X_train = X_train.reshape((X_train.shape[0], 40, 174, 1))\n",
        "X_test = X_test.reshape((X_test.shape[0], 40, 174, 1))\n",
        "\n",
        "X_train.shape, X_test.shape"
      ],
      "execution_count": 7,
      "outputs": [
        {
          "output_type": "execute_result",
          "data": {
            "text/plain": [
              "((7894, 40, 174, 1), (836, 40, 174, 1))"
            ]
          },
          "metadata": {
            "tags": []
          },
          "execution_count": 7
        }
      ]
    },
    {
      "cell_type": "code",
      "metadata": {
        "id": "DkKeXaL3q_Hz",
        "colab_type": "code",
        "colab": {
          "base_uri": "https://localhost:8080/",
          "height": 125
        },
        "outputId": "22555447-3780-4de6-f3b9-525ba9c03f11"
      },
      "source": [
        "from sklearn.preprocessing import OneHotEncoder\n",
        "onehot = OneHotEncoder()\n",
        "y_train = onehot.fit_transform(y_train)\n",
        "y_test = onehot.transform(y_test)\n",
        "y_train.shape, y_test.shape"
      ],
      "execution_count": 22,
      "outputs": [
        {
          "output_type": "stream",
          "text": [
            "/usr/local/lib/python3.6/dist-packages/sklearn/preprocessing/_encoders.py:415: FutureWarning: The handling of integer data will change in version 0.22. Currently, the categories are determined based on the range [0, max(values)], while in the future they will be determined based on the unique values.\n",
            "If you want the future behaviour and silence this warning, you can specify \"categories='auto'\".\n",
            "In case you used a LabelEncoder before this OneHotEncoder to convert the categories to integers, then you can now use the OneHotEncoder directly.\n",
            "  warnings.warn(msg, FutureWarning)\n"
          ],
          "name": "stderr"
        },
        {
          "output_type": "execute_result",
          "data": {
            "text/plain": [
              "((7894, 10), (836, 10))"
            ]
          },
          "metadata": {
            "tags": []
          },
          "execution_count": 22
        }
      ]
    },
    {
      "cell_type": "markdown",
      "metadata": {
        "id": "NYYISkMXG3bo",
        "colab_type": "text"
      },
      "source": [
        "# CNN Model"
      ]
    },
    {
      "cell_type": "code",
      "metadata": {
        "id": "SBXZVDJwEnXG",
        "colab_type": "code",
        "colab": {}
      },
      "source": [
        "from tensorflow.keras.models import Model\n",
        "from tensorflow.keras.layers import Conv2D, MaxPooling2D, Dropout, Flatten, Input, BatchNormalization, Dense, concatenate"
      ],
      "execution_count": 0,
      "outputs": []
    },
    {
      "cell_type": "code",
      "metadata": {
        "id": "1phInhEkEqEF",
        "colab_type": "code",
        "colab": {}
      },
      "source": [
        "# model\n",
        "input = Input(shape= (40, 174, 1))"
      ],
      "execution_count": 0,
      "outputs": []
    },
    {
      "cell_type": "code",
      "metadata": {
        "id": "NlbVwCNmSSdI",
        "colab_type": "code",
        "colab": {}
      },
      "source": [
        "batch_nrml1 = BatchNormalization() (input)\n",
        "conv1 = Conv2D(filters= 32, kernel_size= (3,3), strides= 1, padding= \"same\", activation= \"relu\") (batch_nrml1)\n",
        "pool1 = MaxPooling2D(pool_size= (2, 2), strides= 2, padding= \"same\") (conv1)"
      ],
      "execution_count": 0,
      "outputs": []
    },
    {
      "cell_type": "code",
      "metadata": {
        "id": "p7KPqiIpWZmC",
        "colab_type": "code",
        "colab": {}
      },
      "source": [
        "# branch A\n",
        "batch_nrml1_A = BatchNormalization() (pool1)\n",
        "conv1_A = Conv2D(filters= 64, kernel_size= (3,3), strides= 1, padding= \"same\", activation= \"relu\") (batch_nrml1_A)\n",
        "pool1_A = MaxPooling2D(pool_size= (2, 2), strides= 2, padding= \"same\") (conv1_A)\n",
        "batch_nrml2_A = BatchNormalization() (pool1_A)\n",
        "conv2_A = Conv2D(filters= 64, kernel_size= (3,3), strides= 1, padding= \"same\", activation= \"relu\") (batch_nrml2_A)\n",
        "pool2_A = MaxPooling2D(pool_size= (2, 2), strides= 2, padding= \"same\") (conv2_A)\n",
        "flatten_A = Flatten() (pool2_A)"
      ],
      "execution_count": 0,
      "outputs": []
    },
    {
      "cell_type": "code",
      "metadata": {
        "id": "X6C-vWmNoiui",
        "colab_type": "code",
        "colab": {}
      },
      "source": [
        "# branch B\n",
        "batch_nrml1_B = BatchNormalization() (pool1)\n",
        "conv1_B = Conv2D(filters= 64, kernel_size= (5, 5), strides= 1, padding= \"same\", activation= \"relu\") (batch_nrml1_B)\n",
        "pool1_B = MaxPooling2D(pool_size= (2, 2), strides= 2, padding= \"same\") (conv1_B)\n",
        "batch_nrml2_B = BatchNormalization() (pool1_B)\n",
        "conv2_B = Conv2D(filters= 64, kernel_size= (5, 5), strides= 1, padding= \"same\", activation= \"relu\") (batch_nrml2_B)\n",
        "pool2_B = MaxPooling2D(pool_size= (2, 2), strides= 2, padding= \"same\") (conv2_B)\n",
        "flatten_B = Flatten() (pool2_B)"
      ],
      "execution_count": 0,
      "outputs": []
    },
    {
      "cell_type": "code",
      "metadata": {
        "id": "9YE33bkeoiTg",
        "colab_type": "code",
        "colab": {}
      },
      "source": [
        "# branch C\n",
        "batch_nrml1_C = BatchNormalization() (pool1)\n",
        "conv1_C = Conv2D(filters= 64, kernel_size= (7, 7), strides= 1, padding= \"same\", activation= \"relu\") (batch_nrml1_C)\n",
        "pool1_C = MaxPooling2D(pool_size= (2, 2), strides= 2, padding= \"same\") (conv1_C)\n",
        "batch_nrml2_C = BatchNormalization() (pool1_C)\n",
        "conv2_C = Conv2D(filters= 64, kernel_size= (7, 7), strides= 1, padding= \"same\", activation= \"relu\") (batch_nrml2_C)\n",
        "pool2_C = MaxPooling2D(pool_size= (2, 2), strides= 2, padding= \"same\") (conv2_C)\n",
        "flatten_C = Flatten() (pool2_C)"
      ],
      "execution_count": 0,
      "outputs": []
    },
    {
      "cell_type": "code",
      "metadata": {
        "id": "BZHN51WVXCIp",
        "colab_type": "code",
        "colab": {}
      },
      "source": [
        "conc = concatenate(inputs= [flatten_A, flatten_B, flatten_C])"
      ],
      "execution_count": 0,
      "outputs": []
    },
    {
      "cell_type": "code",
      "metadata": {
        "id": "8629ZHAlXJWj",
        "colab_type": "code",
        "colab": {}
      },
      "source": [
        "hidden1 = Dense(units= 200, activation= \"relu\") (conc)\n",
        "drop1 = Dropout(rate = 0.4) (hidden1)\n",
        "hidden2 = Dense(units= 100, activation= \"relu\") (drop1)\n",
        "drop2 = Dropout(rate = 0.3) (hidden2)"
      ],
      "execution_count": 0,
      "outputs": []
    },
    {
      "cell_type": "code",
      "metadata": {
        "id": "flst_gwmX5PA",
        "colab_type": "code",
        "colab": {}
      },
      "source": [
        "output = Dense(units= 10, activation= 'softmax') (drop2)"
      ],
      "execution_count": 0,
      "outputs": []
    },
    {
      "cell_type": "code",
      "metadata": {
        "id": "m8dyEHylYOr6",
        "colab_type": "code",
        "colab": {}
      },
      "source": [
        "model = Model(inputs = [input], outputs = [output])"
      ],
      "execution_count": 0,
      "outputs": []
    },
    {
      "cell_type": "code",
      "metadata": {
        "id": "OqECCREUYTCL",
        "colab_type": "code",
        "outputId": "8fba10ae-6c21-4bac-b2f5-1d5440df46cf",
        "colab": {
          "base_uri": "https://localhost:8080/",
          "height": 1000
        }
      },
      "source": [
        "model.summary()"
      ],
      "execution_count": 77,
      "outputs": [
        {
          "output_type": "stream",
          "text": [
            "Model: \"model_4\"\n",
            "__________________________________________________________________________________________________\n",
            "Layer (type)                    Output Shape         Param #     Connected to                     \n",
            "==================================================================================================\n",
            "input_6 (InputLayer)            [(None, 40, 174, 1)] 0                                            \n",
            "__________________________________________________________________________________________________\n",
            "batch_normalization_11 (BatchNo (None, 40, 174, 1)   4           input_6[0][0]                    \n",
            "__________________________________________________________________________________________________\n",
            "conv2d_19 (Conv2D)              (None, 40, 174, 32)  320         batch_normalization_11[0][0]     \n",
            "__________________________________________________________________________________________________\n",
            "max_pooling2d_19 (MaxPooling2D) (None, 20, 87, 32)   0           conv2d_19[0][0]                  \n",
            "__________________________________________________________________________________________________\n",
            "batch_normalization_12 (BatchNo (None, 20, 87, 32)   128         max_pooling2d_19[0][0]           \n",
            "__________________________________________________________________________________________________\n",
            "batch_normalization_14 (BatchNo (None, 20, 87, 32)   128         max_pooling2d_19[0][0]           \n",
            "__________________________________________________________________________________________________\n",
            "batch_normalization_16 (BatchNo (None, 20, 87, 32)   128         max_pooling2d_19[0][0]           \n",
            "__________________________________________________________________________________________________\n",
            "conv2d_20 (Conv2D)              (None, 20, 87, 64)   18496       batch_normalization_12[0][0]     \n",
            "__________________________________________________________________________________________________\n",
            "conv2d_22 (Conv2D)              (None, 20, 87, 64)   51264       batch_normalization_14[0][0]     \n",
            "__________________________________________________________________________________________________\n",
            "conv2d_24 (Conv2D)              (None, 20, 87, 64)   100416      batch_normalization_16[0][0]     \n",
            "__________________________________________________________________________________________________\n",
            "max_pooling2d_20 (MaxPooling2D) (None, 10, 44, 64)   0           conv2d_20[0][0]                  \n",
            "__________________________________________________________________________________________________\n",
            "max_pooling2d_22 (MaxPooling2D) (None, 10, 44, 64)   0           conv2d_22[0][0]                  \n",
            "__________________________________________________________________________________________________\n",
            "max_pooling2d_24 (MaxPooling2D) (None, 10, 44, 64)   0           conv2d_24[0][0]                  \n",
            "__________________________________________________________________________________________________\n",
            "batch_normalization_13 (BatchNo (None, 10, 44, 64)   256         max_pooling2d_20[0][0]           \n",
            "__________________________________________________________________________________________________\n",
            "batch_normalization_15 (BatchNo (None, 10, 44, 64)   256         max_pooling2d_22[0][0]           \n",
            "__________________________________________________________________________________________________\n",
            "batch_normalization_17 (BatchNo (None, 10, 44, 64)   256         max_pooling2d_24[0][0]           \n",
            "__________________________________________________________________________________________________\n",
            "conv2d_21 (Conv2D)              (None, 10, 44, 64)   36928       batch_normalization_13[0][0]     \n",
            "__________________________________________________________________________________________________\n",
            "conv2d_23 (Conv2D)              (None, 10, 44, 64)   102464      batch_normalization_15[0][0]     \n",
            "__________________________________________________________________________________________________\n",
            "conv2d_25 (Conv2D)              (None, 10, 44, 64)   200768      batch_normalization_17[0][0]     \n",
            "__________________________________________________________________________________________________\n",
            "max_pooling2d_21 (MaxPooling2D) (None, 5, 22, 64)    0           conv2d_21[0][0]                  \n",
            "__________________________________________________________________________________________________\n",
            "max_pooling2d_23 (MaxPooling2D) (None, 5, 22, 64)    0           conv2d_23[0][0]                  \n",
            "__________________________________________________________________________________________________\n",
            "max_pooling2d_25 (MaxPooling2D) (None, 5, 22, 64)    0           conv2d_25[0][0]                  \n",
            "__________________________________________________________________________________________________\n",
            "flatten_12 (Flatten)            (None, 7040)         0           max_pooling2d_21[0][0]           \n",
            "__________________________________________________________________________________________________\n",
            "flatten_13 (Flatten)            (None, 7040)         0           max_pooling2d_23[0][0]           \n",
            "__________________________________________________________________________________________________\n",
            "flatten_14 (Flatten)            (None, 7040)         0           max_pooling2d_25[0][0]           \n",
            "__________________________________________________________________________________________________\n",
            "concatenate_4 (Concatenate)     (None, 21120)        0           flatten_12[0][0]                 \n",
            "                                                                 flatten_13[0][0]                 \n",
            "                                                                 flatten_14[0][0]                 \n",
            "__________________________________________________________________________________________________\n",
            "dense_12 (Dense)                (None, 256)          5406976     concatenate_4[0][0]              \n",
            "__________________________________________________________________________________________________\n",
            "dropout_8 (Dropout)             (None, 256)          0           dense_12[0][0]                   \n",
            "__________________________________________________________________________________________________\n",
            "dense_13 (Dense)                (None, 100)          25700       dropout_8[0][0]                  \n",
            "__________________________________________________________________________________________________\n",
            "dropout_9 (Dropout)             (None, 100)          0           dense_13[0][0]                   \n",
            "__________________________________________________________________________________________________\n",
            "dense_14 (Dense)                (None, 10)           1010        dropout_9[0][0]                  \n",
            "==================================================================================================\n",
            "Total params: 5,945,498\n",
            "Trainable params: 5,944,920\n",
            "Non-trainable params: 578\n",
            "__________________________________________________________________________________________________\n"
          ],
          "name": "stdout"
        }
      ]
    },
    {
      "cell_type": "code",
      "metadata": {
        "id": "cGyD_pvFZ7Mt",
        "colab_type": "code",
        "colab": {}
      },
      "source": [
        "model.compile(optimizer= 'adam', loss = 'categorical_crossentropy', metrics= ['accuracy'])"
      ],
      "execution_count": 0,
      "outputs": []
    },
    {
      "cell_type": "code",
      "metadata": {
        "id": "WyzdhsZDa2Bn",
        "colab_type": "code",
        "outputId": "cbb3278d-bdfa-4997-924d-7f774b3224d4",
        "colab": {
          "base_uri": "https://localhost:8080/",
          "height": 562
        }
      },
      "source": [
        "model.layers"
      ],
      "execution_count": 79,
      "outputs": [
        {
          "output_type": "execute_result",
          "data": {
            "text/plain": [
              "[<tensorflow.python.keras.engine.input_layer.InputLayer at 0x7f26decab198>,\n",
              " <tensorflow.python.keras.layers.normalization.BatchNormalization at 0x7f26deb75908>,\n",
              " <tensorflow.python.keras.layers.convolutional.Conv2D at 0x7f26deb75b38>,\n",
              " <tensorflow.python.keras.layers.pooling.MaxPooling2D at 0x7f26deb0bef0>,\n",
              " <tensorflow.python.keras.layers.normalization.BatchNormalization at 0x7f26dea44d30>,\n",
              " <tensorflow.python.keras.layers.normalization.BatchNormalization at 0x7f26de91bb00>,\n",
              " <tensorflow.python.keras.layers.normalization.BatchNormalization at 0x7f26de794cf8>,\n",
              " <tensorflow.python.keras.layers.convolutional.Conv2D at 0x7f26dea44cf8>,\n",
              " <tensorflow.python.keras.layers.convolutional.Conv2D at 0x7f26de91bf98>,\n",
              " <tensorflow.python.keras.layers.convolutional.Conv2D at 0x7f26de794780>,\n",
              " <tensorflow.python.keras.layers.pooling.MaxPooling2D at 0x7f26dec4b588>,\n",
              " <tensorflow.python.keras.layers.pooling.MaxPooling2D at 0x7f26de930518>,\n",
              " <tensorflow.python.keras.layers.pooling.MaxPooling2D at 0x7f26de7b4400>,\n",
              " <tensorflow.python.keras.layers.normalization.BatchNormalization at 0x7f26deca03c8>,\n",
              " <tensorflow.python.keras.layers.normalization.BatchNormalization at 0x7f26de8968d0>,\n",
              " <tensorflow.python.keras.layers.normalization.BatchNormalization at 0x7f26de720c50>,\n",
              " <tensorflow.python.keras.layers.convolutional.Conv2D at 0x7f26dec15ac8>,\n",
              " <tensorflow.python.keras.layers.convolutional.Conv2D at 0x7f26de84c198>,\n",
              " <tensorflow.python.keras.layers.convolutional.Conv2D at 0x7f26de6e1748>,\n",
              " <tensorflow.python.keras.layers.pooling.MaxPooling2D at 0x7f26de9e9a20>,\n",
              " <tensorflow.python.keras.layers.pooling.MaxPooling2D at 0x7f26de864e10>,\n",
              " <tensorflow.python.keras.layers.pooling.MaxPooling2D at 0x7f26de6f0e48>,\n",
              " <tensorflow.python.keras.layers.core.Flatten at 0x7f26de94ca20>,\n",
              " <tensorflow.python.keras.layers.core.Flatten at 0x7f26de7ef7f0>,\n",
              " <tensorflow.python.keras.layers.core.Flatten at 0x7f26de603438>,\n",
              " <tensorflow.python.keras.layers.merge.Concatenate at 0x7f26deb00cc0>,\n",
              " <tensorflow.python.keras.layers.core.Dense at 0x7f26dea444a8>,\n",
              " <tensorflow.python.keras.layers.core.Dropout at 0x7f26dea449e8>,\n",
              " <tensorflow.python.keras.layers.core.Dense at 0x7f26dea44a20>,\n",
              " <tensorflow.python.keras.layers.core.Dropout at 0x7f26de91b710>,\n",
              " <tensorflow.python.keras.layers.core.Dense at 0x7f26deaa5748>]"
            ]
          },
          "metadata": {
            "tags": []
          },
          "execution_count": 79
        }
      ]
    },
    {
      "cell_type": "code",
      "metadata": {
        "id": "IAk2fQgPa5xw",
        "colab_type": "code",
        "outputId": "5f32611b-5e0a-4908-c2e0-752dc0df4187",
        "colab": {
          "base_uri": "https://localhost:8080/",
          "height": 1000
        }
      },
      "source": [
        "history = model.fit(X_train, y_train, batch_size= 32, epochs= 50, validation_split= 0.2)"
      ],
      "execution_count": 80,
      "outputs": [
        {
          "output_type": "stream",
          "text": [
            "Train on 6315 samples, validate on 1579 samples\n",
            "Epoch 1/50\n",
            "6315/6315 [==============================] - 18s 3ms/sample - loss: 2.4477 - acc: 0.2511 - val_loss: 2.0990 - val_acc: 0.2514\n",
            "Epoch 2/50\n",
            "6315/6315 [==============================] - 17s 3ms/sample - loss: 1.7360 - acc: 0.3539 - val_loss: 1.8630 - val_acc: 0.3952\n",
            "Epoch 3/50\n",
            "6315/6315 [==============================] - 17s 3ms/sample - loss: 1.5379 - acc: 0.4204 - val_loss: 1.9880 - val_acc: 0.3559\n",
            "Epoch 4/50\n",
            "6315/6315 [==============================] - 17s 3ms/sample - loss: 1.3353 - acc: 0.4939 - val_loss: 1.6841 - val_acc: 0.3908\n",
            "Epoch 5/50\n",
            "6315/6315 [==============================] - 17s 3ms/sample - loss: 1.0940 - acc: 0.5937 - val_loss: 1.6783 - val_acc: 0.4630\n",
            "Epoch 6/50\n",
            "6315/6315 [==============================] - 17s 3ms/sample - loss: 0.9449 - acc: 0.6606 - val_loss: 1.7109 - val_acc: 0.5117\n",
            "Epoch 7/50\n",
            "6315/6315 [==============================] - 17s 3ms/sample - loss: 0.8110 - acc: 0.7208 - val_loss: 1.6512 - val_acc: 0.5351\n",
            "Epoch 8/50\n",
            "6315/6315 [==============================] - 17s 3ms/sample - loss: 0.6615 - acc: 0.7563 - val_loss: 1.8625 - val_acc: 0.5066\n",
            "Epoch 9/50\n",
            "6315/6315 [==============================] - 17s 3ms/sample - loss: 0.5402 - acc: 0.8049 - val_loss: 1.7118 - val_acc: 0.5769\n",
            "Epoch 10/50\n",
            "6315/6315 [==============================] - 17s 3ms/sample - loss: 0.5131 - acc: 0.8228 - val_loss: 2.0321 - val_acc: 0.5440\n",
            "Epoch 11/50\n",
            "6315/6315 [==============================] - 17s 3ms/sample - loss: 0.4413 - acc: 0.8581 - val_loss: 1.8342 - val_acc: 0.5516\n",
            "Epoch 12/50\n",
            "6315/6315 [==============================] - 17s 3ms/sample - loss: 0.3880 - acc: 0.8770 - val_loss: 1.9750 - val_acc: 0.5750\n",
            "Epoch 13/50\n",
            "6315/6315 [==============================] - 17s 3ms/sample - loss: 0.3287 - acc: 0.8983 - val_loss: 2.0961 - val_acc: 0.5826\n",
            "Epoch 14/50\n",
            "6315/6315 [==============================] - 17s 3ms/sample - loss: 0.2593 - acc: 0.9178 - val_loss: 2.2526 - val_acc: 0.6035\n",
            "Epoch 15/50\n",
            "6315/6315 [==============================] - 17s 3ms/sample - loss: 0.2296 - acc: 0.9291 - val_loss: 2.5855 - val_acc: 0.5725\n",
            "Epoch 16/50\n",
            "6315/6315 [==============================] - 17s 3ms/sample - loss: 0.2222 - acc: 0.9346 - val_loss: 2.6244 - val_acc: 0.5928\n",
            "Epoch 17/50\n",
            "6315/6315 [==============================] - 17s 3ms/sample - loss: 0.2058 - acc: 0.9335 - val_loss: 2.8332 - val_acc: 0.5617\n",
            "Epoch 18/50\n",
            "6315/6315 [==============================] - 17s 3ms/sample - loss: 0.2118 - acc: 0.9379 - val_loss: 2.8020 - val_acc: 0.5807\n",
            "Epoch 19/50\n",
            "6315/6315 [==============================] - 17s 3ms/sample - loss: 0.1801 - acc: 0.9430 - val_loss: 3.1047 - val_acc: 0.5655\n",
            "Epoch 20/50\n",
            "6315/6315 [==============================] - 17s 3ms/sample - loss: 0.1709 - acc: 0.9501 - val_loss: 3.1232 - val_acc: 0.5554\n",
            "Epoch 21/50\n",
            "6315/6315 [==============================] - 17s 3ms/sample - loss: 0.1962 - acc: 0.9470 - val_loss: 2.4278 - val_acc: 0.6124\n",
            "Epoch 22/50\n",
            "6315/6315 [==============================] - 17s 3ms/sample - loss: 0.1533 - acc: 0.9571 - val_loss: 3.0983 - val_acc: 0.5890\n",
            "Epoch 23/50\n",
            "6315/6315 [==============================] - 17s 3ms/sample - loss: 0.1209 - acc: 0.9650 - val_loss: 2.7989 - val_acc: 0.5845\n",
            "Epoch 24/50\n",
            "6315/6315 [==============================] - 17s 3ms/sample - loss: 0.1633 - acc: 0.9539 - val_loss: 2.8441 - val_acc: 0.5921\n",
            "Epoch 25/50\n",
            "6315/6315 [==============================] - 17s 3ms/sample - loss: 0.1636 - acc: 0.9544 - val_loss: 3.2893 - val_acc: 0.5364\n",
            "Epoch 26/50\n",
            "6315/6315 [==============================] - 17s 3ms/sample - loss: 0.1256 - acc: 0.9658 - val_loss: 3.1408 - val_acc: 0.6156\n",
            "Epoch 27/50\n",
            "6315/6315 [==============================] - 17s 3ms/sample - loss: 0.1116 - acc: 0.9675 - val_loss: 3.6975 - val_acc: 0.5738\n",
            "Epoch 28/50\n",
            "6315/6315 [==============================] - 17s 3ms/sample - loss: 0.1110 - acc: 0.9691 - val_loss: 4.3359 - val_acc: 0.5712\n",
            "Epoch 29/50\n",
            "6315/6315 [==============================] - 17s 3ms/sample - loss: 0.1008 - acc: 0.9685 - val_loss: 3.6725 - val_acc: 0.5522\n",
            "Epoch 30/50\n",
            "6315/6315 [==============================] - 17s 3ms/sample - loss: 0.1031 - acc: 0.9723 - val_loss: 3.7944 - val_acc: 0.5712\n",
            "Epoch 31/50\n",
            "6315/6315 [==============================] - 17s 3ms/sample - loss: 0.1370 - acc: 0.9660 - val_loss: 4.0522 - val_acc: 0.5377\n",
            "Epoch 32/50\n",
            "6315/6315 [==============================] - 17s 3ms/sample - loss: 0.0894 - acc: 0.9737 - val_loss: 3.8228 - val_acc: 0.5820\n",
            "Epoch 33/50\n",
            "6315/6315 [==============================] - 17s 3ms/sample - loss: 0.0810 - acc: 0.9750 - val_loss: 3.7260 - val_acc: 0.5915\n",
            "Epoch 34/50\n",
            "6315/6315 [==============================] - 17s 3ms/sample - loss: 0.1123 - acc: 0.9669 - val_loss: 4.4747 - val_acc: 0.5624\n",
            "Epoch 35/50\n",
            "6315/6315 [==============================] - 17s 3ms/sample - loss: 0.0925 - acc: 0.9718 - val_loss: 3.6930 - val_acc: 0.5776\n",
            "Epoch 36/50\n",
            "6315/6315 [==============================] - 17s 3ms/sample - loss: 0.1011 - acc: 0.9712 - val_loss: 3.9892 - val_acc: 0.5712\n",
            "Epoch 37/50\n",
            "6315/6315 [==============================] - 17s 3ms/sample - loss: 0.0963 - acc: 0.9728 - val_loss: 6.4773 - val_acc: 0.5421\n",
            "Epoch 38/50\n",
            "6315/6315 [==============================] - 17s 3ms/sample - loss: 0.1412 - acc: 0.9595 - val_loss: 3.8633 - val_acc: 0.6073\n",
            "Epoch 39/50\n",
            "6315/6315 [==============================] - 17s 3ms/sample - loss: 0.0836 - acc: 0.9764 - val_loss: 4.3688 - val_acc: 0.5592\n",
            "Epoch 40/50\n",
            "6315/6315 [==============================] - 17s 3ms/sample - loss: 0.0901 - acc: 0.9780 - val_loss: 3.9004 - val_acc: 0.5744\n",
            "Epoch 41/50\n",
            "6315/6315 [==============================] - 17s 3ms/sample - loss: 0.0828 - acc: 0.9786 - val_loss: 4.1204 - val_acc: 0.5554\n",
            "Epoch 42/50\n",
            "6315/6315 [==============================] - 17s 3ms/sample - loss: 0.0827 - acc: 0.9755 - val_loss: 4.5307 - val_acc: 0.5567\n",
            "Epoch 43/50\n",
            "6315/6315 [==============================] - 17s 3ms/sample - loss: 0.0961 - acc: 0.9753 - val_loss: 4.4266 - val_acc: 0.5370\n",
            "Epoch 44/50\n",
            "6315/6315 [==============================] - 17s 3ms/sample - loss: 0.0793 - acc: 0.9804 - val_loss: 4.0586 - val_acc: 0.5326\n",
            "Epoch 45/50\n",
            "6315/6315 [==============================] - 17s 3ms/sample - loss: 0.0731 - acc: 0.9826 - val_loss: 3.8811 - val_acc: 0.5763\n",
            "Epoch 46/50\n",
            "6315/6315 [==============================] - 17s 3ms/sample - loss: 0.0606 - acc: 0.9821 - val_loss: 4.4310 - val_acc: 0.5668\n",
            "Epoch 47/50\n",
            "6315/6315 [==============================] - 17s 3ms/sample - loss: 0.0504 - acc: 0.9857 - val_loss: 5.0342 - val_acc: 0.5630\n",
            "Epoch 48/50\n",
            "6315/6315 [==============================] - 17s 3ms/sample - loss: 0.1380 - acc: 0.9694 - val_loss: 3.7749 - val_acc: 0.5700\n",
            "Epoch 49/50\n",
            "6315/6315 [==============================] - 17s 3ms/sample - loss: 0.0641 - acc: 0.9812 - val_loss: 4.4703 - val_acc: 0.5630\n",
            "Epoch 50/50\n",
            "6315/6315 [==============================] - 17s 3ms/sample - loss: 0.0763 - acc: 0.9780 - val_loss: 3.9827 - val_acc: 0.5801\n"
          ],
          "name": "stdout"
        }
      ]
    },
    {
      "cell_type": "code",
      "metadata": {
        "id": "NrOv2dagbaAU",
        "colab_type": "code",
        "outputId": "3efddd2d-56b9-4e29-8dbc-a4313ab0064d",
        "colab": {
          "base_uri": "https://localhost:8080/",
          "height": 52
        }
      },
      "source": [
        "model.evaluate(X_test, y_test)"
      ],
      "execution_count": 81,
      "outputs": [
        {
          "output_type": "stream",
          "text": [
            "836/836 [==============================] - 1s 943us/sample - loss: 1.5964 - acc: 0.7189\n"
          ],
          "name": "stdout"
        },
        {
          "output_type": "execute_result",
          "data": {
            "text/plain": [
              "[1.5964397615045711, 0.71889955]"
            ]
          },
          "metadata": {
            "tags": []
          },
          "execution_count": 81
        }
      ]
    },
    {
      "cell_type": "code",
      "metadata": {
        "id": "aGmAuTfLcBA2",
        "colab_type": "code",
        "outputId": "46fa2fa8-b6c9-4ed7-cbe6-2fb322ddf1f5",
        "colab": {
          "base_uri": "https://localhost:8080/",
          "height": 613
        }
      },
      "source": [
        "pd.DataFrame(history.history).plot(figsize=(10,10))"
      ],
      "execution_count": 82,
      "outputs": [
        {
          "output_type": "execute_result",
          "data": {
            "text/plain": [
              "<matplotlib.axes._subplots.AxesSubplot at 0x7f26dd8a0cc0>"
            ]
          },
          "metadata": {
            "tags": []
          },
          "execution_count": 82
        },
        {
          "output_type": "display_data",
          "data": {
            "image/png": "[encoded data removed]",
            "text/plain": [
              "<Figure size 720x720 with 1 Axes>"
            ]
          },
          "metadata": {
            "tags": []
          }
        }
      ]
    },
    {
      "cell_type": "code",
      "metadata": {
        "id": "DAxjMnTBhsbS",
        "colab_type": "code",
        "colab": {}
      },
      "source": [
        ""
      ],
      "execution_count": 0,
      "outputs": []
    }
  ]
}