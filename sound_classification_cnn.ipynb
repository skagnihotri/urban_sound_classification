{
  "nbformat": 4,
  "nbformat_minor": 0,
  "metadata": {
    "colab": {
      "name": "sound classification cnn.ipynb",
      "version": "0.3.2",
      "provenance": [],
      "collapsed_sections": [],
      "include_colab_link": true
    },
    "kernelspec": {
      "name": "python3",
      "display_name": "Python 3"
    },
    "accelerator": "GPU"
  },
  "cells": [
    {
      "cell_type": "markdown",
      "metadata": {
        "id": "view-in-github",
        "colab_type": "text"
      },
      "source": [
        "<a href=\"https://colab.research.google.com/github/skagnihotri/urban_sound_classification/blob/master/sound_classification_cnn.ipynb\" target=\"_parent\"><img src=\"https://colab.research.google.com/assets/colab-badge.svg\" alt=\"Open In Colab\"/></a>"
      ]
    },
    {
      "cell_type": "code",
      "metadata": {
        "id": "0nfPYXl7Aq0o",
        "colab_type": "code",
        "outputId": "045b1a40-6475-448c-f575-6c5df1cbb44d",
        "colab": {
          "base_uri": "https://localhost:8080/",
          "height": 125
        }
      },
      "source": [
        "from google.colab import drive\n",
        "drive.mount('/content/drive')"
      ],
      "execution_count": 1,
      "outputs": [
        {
          "output_type": "stream",
          "text": [
            "Go to this URL in a browser: https://accounts.google.com/o/oauth2/auth?client_id=947318989803-6bn6qk8qdgf4n4g3pfee6491hc0brc4i.apps.googleusercontent.com&redirect_uri=urn%3Aietf%3Awg%3Aoauth%3A2.0%3Aoob&scope=email%20https%3A%2F%2Fwww.googleapis.com%2Fauth%2Fdocs.test%20https%3A%2F%2Fwww.googleapis.com%2Fauth%2Fdrive%20https%3A%2F%2Fwww.googleapis.com%2Fauth%2Fdrive.photos.readonly%20https%3A%2F%2Fwww.googleapis.com%2Fauth%2Fpeopleapi.readonly&response_type=code\n",
            "\n",
            "Enter your authorization code:\n",
            "··········\n",
            "Mounted at /content/drive\n"
          ],
          "name": "stdout"
        }
      ]
    },
    {
      "cell_type": "code",
      "metadata": {
        "id": "LDAkibwkAt5q",
        "colab_type": "code",
        "colab": {}
      },
      "source": [
        "import numpy as np\n",
        "import pandas as pd\n",
        "import matplotlib.pyplot as plt\n",
        "%matplotlib inline"
      ],
      "execution_count": 0,
      "outputs": []
    },
    {
      "cell_type": "code",
      "metadata": {
        "id": "gea5FkLuBk5I",
        "colab_type": "code",
        "colab": {}
      },
      "source": [
        "data = pd.read_csv('/content/drive/My Drive/urban sound dataset/ content UrbanSound8K metadata UrbanSound8K.csv')"
      ],
      "execution_count": 0,
      "outputs": []
    },
    {
      "cell_type": "code",
      "metadata": {
        "id": "XRPg30qeByrB",
        "colab_type": "code",
        "outputId": "b0e36a60-b24c-43d9-c15f-c3aae0158949",
        "colab": {
          "base_uri": "https://localhost:8080/",
          "height": 195
        }
      },
      "source": [
        "data.head()"
      ],
      "execution_count": 4,
      "outputs": [
        {
          "output_type": "execute_result",
          "data": {
            "text/html": [
              "<div>\n",
              "<style scoped>\n",
              "    .dataframe tbody tr th:only-of-type {\n",
              "        vertical-align: middle;\n",
              "    }\n",
              "\n",
              "    .dataframe tbody tr th {\n",
              "        vertical-align: top;\n",
              "    }\n",
              "\n",
              "    .dataframe thead th {\n",
              "        text-align: right;\n",
              "    }\n",
              "</style>\n",
              "<table border=\"1\" class=\"dataframe\">\n",
              "  <thead>\n",
              "    <tr style=\"text-align: right;\">\n",
              "      <th></th>\n",
              "      <th>slice_file_name</th>\n",
              "      <th>fsID</th>\n",
              "      <th>start</th>\n",
              "      <th>end</th>\n",
              "      <th>salience</th>\n",
              "      <th>fold</th>\n",
              "      <th>classID</th>\n",
              "      <th>class</th>\n",
              "    </tr>\n",
              "  </thead>\n",
              "  <tbody>\n",
              "    <tr>\n",
              "      <th>0</th>\n",
              "      <td>100032-3-0-0.wav</td>\n",
              "      <td>100032</td>\n",
              "      <td>0.0</td>\n",
              "      <td>0.317551</td>\n",
              "      <td>1</td>\n",
              "      <td>5</td>\n",
              "      <td>3</td>\n",
              "      <td>dog_bark</td>\n",
              "    </tr>\n",
              "    <tr>\n",
              "      <th>1</th>\n",
              "      <td>100263-2-0-117.wav</td>\n",
              "      <td>100263</td>\n",
              "      <td>58.5</td>\n",
              "      <td>62.500000</td>\n",
              "      <td>1</td>\n",
              "      <td>5</td>\n",
              "      <td>2</td>\n",
              "      <td>children_playing</td>\n",
              "    </tr>\n",
              "    <tr>\n",
              "      <th>2</th>\n",
              "      <td>100263-2-0-121.wav</td>\n",
              "      <td>100263</td>\n",
              "      <td>60.5</td>\n",
              "      <td>64.500000</td>\n",
              "      <td>1</td>\n",
              "      <td>5</td>\n",
              "      <td>2</td>\n",
              "      <td>children_playing</td>\n",
              "    </tr>\n",
              "    <tr>\n",
              "      <th>3</th>\n",
              "      <td>100263-2-0-126.wav</td>\n",
              "      <td>100263</td>\n",
              "      <td>63.0</td>\n",
              "      <td>67.000000</td>\n",
              "      <td>1</td>\n",
              "      <td>5</td>\n",
              "      <td>2</td>\n",
              "      <td>children_playing</td>\n",
              "    </tr>\n",
              "    <tr>\n",
              "      <th>4</th>\n",
              "      <td>100263-2-0-137.wav</td>\n",
              "      <td>100263</td>\n",
              "      <td>68.5</td>\n",
              "      <td>72.500000</td>\n",
              "      <td>1</td>\n",
              "      <td>5</td>\n",
              "      <td>2</td>\n",
              "      <td>children_playing</td>\n",
              "    </tr>\n",
              "  </tbody>\n",
              "</table>\n",
              "</div>"
            ],
            "text/plain": [
              "      slice_file_name    fsID  start  ...  fold  classID             class\n",
              "0    100032-3-0-0.wav  100032    0.0  ...     5        3          dog_bark\n",
              "1  100263-2-0-117.wav  100263   58.5  ...     5        2  children_playing\n",
              "2  100263-2-0-121.wav  100263   60.5  ...     5        2  children_playing\n",
              "3  100263-2-0-126.wav  100263   63.0  ...     5        2  children_playing\n",
              "4  100263-2-0-137.wav  100263   68.5  ...     5        2  children_playing\n",
              "\n",
              "[5 rows x 8 columns]"
            ]
          },
          "metadata": {
            "tags": []
          },
          "execution_count": 4
        }
      ]
    },
    {
      "cell_type": "code",
      "metadata": {
        "id": "Xv6rOsjUB1VO",
        "colab_type": "code",
        "colab": {}
      },
      "source": [
        "X_train = pd.read_csv('/content/drive/My Drive/urban sound dataset/ content train_data.csv')\n",
        "X_test = pd.read_csv('/content/drive/My Drive/urban sound dataset/ content test_data.csv')\n",
        "y_train = pd.read_csv('/content/drive/My Drive/urban sound dataset/ content train_labels.csv')\n",
        "y_test = pd.read_csv('/content/drive/My Drive/urban sound dataset/ content test_labels.csv')"
      ],
      "execution_count": 0,
      "outputs": []
    },
    {
      "cell_type": "code",
      "metadata": {
        "id": "3mYUIhZCCWpP",
        "colab_type": "code",
        "outputId": "d571cdd3-ee10-4dcb-a254-9f7ce6779a89",
        "colab": {
          "base_uri": "https://localhost:8080/",
          "height": 34
        }
      },
      "source": [
        "X_train = X_train.values\n",
        "X_test = X_test.values\n",
        "y_train = y_train.values\n",
        "y_test = y_test.values\n",
        "\n",
        "X_test.shape, y_test.shape"
      ],
      "execution_count": 6,
      "outputs": [
        {
          "output_type": "execute_result",
          "data": {
            "text/plain": [
              "((836, 6960), (836, 1))"
            ]
          },
          "metadata": {
            "tags": []
          },
          "execution_count": 6
        }
      ]
    },
    {
      "cell_type": "code",
      "metadata": {
        "id": "jknHujDLCt51",
        "colab_type": "code",
        "outputId": "5038e737-a592-41c5-8d4b-4113616a8a2d",
        "colab": {
          "base_uri": "https://localhost:8080/",
          "height": 34
        }
      },
      "source": [
        "X_train = X_train.reshape((X_train.shape[0], 40, 174, 1))\n",
        "X_test = X_test.reshape((X_test.shape[0], 40, 174, 1))\n",
        "\n",
        "X_train.shape, X_test.shape"
      ],
      "execution_count": 7,
      "outputs": [
        {
          "output_type": "execute_result",
          "data": {
            "text/plain": [
              "((7894, 40, 174, 1), (836, 40, 174, 1))"
            ]
          },
          "metadata": {
            "tags": []
          },
          "execution_count": 7
        }
      ]
    },
    {
      "cell_type": "code",
      "metadata": {
        "id": "DkKeXaL3q_Hz",
        "colab_type": "code",
        "colab": {
          "base_uri": "https://localhost:8080/",
          "height": 125
        },
        "outputId": "22555447-3780-4de6-f3b9-525ba9c03f11"
      },
      "source": [
        "from sklearn.preprocessing import OneHotEncoder\n",
        "onehot = OneHotEncoder()\n",
        "y_train = onehot.fit_transform(y_train)\n",
        "y_test = onehot.transform(y_test)\n",
        "y_train.shape, y_test.shape"
      ],
      "execution_count": 22,
      "outputs": [
        {
          "output_type": "stream",
          "text": [
            "/usr/local/lib/python3.6/dist-packages/sklearn/preprocessing/_encoders.py:415: FutureWarning: The handling of integer data will change in version 0.22. Currently, the categories are determined based on the range [0, max(values)], while in the future they will be determined based on the unique values.\n",
            "If you want the future behaviour and silence this warning, you can specify \"categories='auto'\".\n",
            "In case you used a LabelEncoder before this OneHotEncoder to convert the categories to integers, then you can now use the OneHotEncoder directly.\n",
            "  warnings.warn(msg, FutureWarning)\n"
          ],
          "name": "stderr"
        },
        {
          "output_type": "execute_result",
          "data": {
            "text/plain": [
              "((7894, 10), (836, 10))"
            ]
          },
          "metadata": {
            "tags": []
          },
          "execution_count": 22
        }
      ]
    },
    {
      "cell_type": "markdown",
      "metadata": {
        "id": "NYYISkMXG3bo",
        "colab_type": "text"
      },
      "source": [
        "# CNN Model"
      ]
    },
    {
      "cell_type": "code",
      "metadata": {
        "id": "SBXZVDJwEnXG",
        "colab_type": "code",
        "colab": {}
      },
      "source": [
        "from tensorflow.keras.models import Model\n",
        "from tensorflow.keras.layers import Conv2D, MaxPooling2D, Dropout, Flatten, Input, BatchNormalization, Dense, concatenate"
      ],
      "execution_count": 0,
      "outputs": []
    },
    {
      "cell_type": "code",
      "metadata": {
        "id": "1phInhEkEqEF",
        "colab_type": "code",
        "colab": {}
      },
      "source": [
        "# model\n",
        "input = Input(shape= (40, 174, 1))"
      ],
      "execution_count": 0,
      "outputs": []
    },
    {
      "cell_type": "code",
      "metadata": {
        "id": "NlbVwCNmSSdI",
        "colab_type": "code",
        "colab": {}
      },
      "source": [
        "batch_nrml1 = BatchNormalization() (input)\n",
        "conv1 = Conv2D(filters= 32, kernel_size= (3,3), strides= 1, padding= \"same\", activation= \"relu\") (batch_nrml1)\n",
        "pool1 = MaxPooling2D(pool_size= (2, 2), strides= 2, padding= \"same\") (conv1)"
      ],
      "execution_count": 0,
      "outputs": []
    },
    {
      "cell_type": "code",
      "metadata": {
        "id": "p7KPqiIpWZmC",
        "colab_type": "code",
        "colab": {}
      },
      "source": [
        "# branch A\n",
        "batch_nrml1_A = BatchNormalization() (pool1)\n",
        "conv1_A = Conv2D(filters= 64, kernel_size= (3,3), strides= 1, padding= \"same\", activation= \"relu\") (batch_nrml1_A)\n",
        "conv2_A = Conv2D(filters= 64, kernel_size= (3,3), strides= 1, padding= \"same\", activation= \"relu\") (conv1_A)\n",
        "pool1_A = MaxPooling2D(pool_size= (2, 2), strides= 2, padding= \"same\") (conv2_A)\n",
        "flatten_A = Flatten() (pool1_A)"
      ],
      "execution_count": 0,
      "outputs": []
    },
    {
      "cell_type": "code",
      "metadata": {
        "id": "X6C-vWmNoiui",
        "colab_type": "code",
        "colab": {}
      },
      "source": [
        "# branch B\n",
        "batch_nrml1_B = BatchNormalization() (pool1)\n",
        "conv1_B = Conv2D(filters= 64, kernel_size= (5, 5), strides= 1, padding= \"same\", activation= \"relu\") (batch_nrml1_B)\n",
        "conv2_B = Conv2D(filters= 64, kernel_size= (5, 5), strides= 1, padding= \"same\", activation= \"relu\") (conv1_B)\n",
        "pool1_B = MaxPooling2D(pool_size= (2, 2), strides= 2, padding= \"same\") (conv2_B)\n",
        "flatten_B = Flatten() (pool1_B)"
      ],
      "execution_count": 0,
      "outputs": []
    },
    {
      "cell_type": "code",
      "metadata": {
        "id": "9YE33bkeoiTg",
        "colab_type": "code",
        "colab": {}
      },
      "source": [
        "# branch C\n",
        "batch_nrml1_C = BatchNormalization() (pool1)\n",
        "conv1_C = Conv2D(filters= 64, kernel_size= (7, 7), strides= 1, padding= \"same\", activation= \"relu\") (batch_nrml1_C)\n",
        "conv2_C = Conv2D(filters= 64, kernel_size= (7, 7), strides= 1, padding= \"same\", activation= \"relu\") (conv1_C)\n",
        "pool1_C = MaxPooling2D(pool_size= (2, 2), strides= 2, padding= \"same\") (conv2_C)\n",
        "flatten_C = Flatten() (pool1_C)"
      ],
      "execution_count": 0,
      "outputs": []
    },
    {
      "cell_type": "code",
      "metadata": {
        "id": "BZHN51WVXCIp",
        "colab_type": "code",
        "colab": {}
      },
      "source": [
        "conc = concatenate(inputs= [flatten_A, flatten_B, flatten_C])"
      ],
      "execution_count": 0,
      "outputs": []
    },
    {
      "cell_type": "code",
      "metadata": {
        "id": "8629ZHAlXJWj",
        "colab_type": "code",
        "colab": {}
      },
      "source": [
        "hidden1 = Dense(units= 100, activation= \"relu\") (conc)\n",
        "drop1 = Dropout(rate = 0.5) (hidden1)\n",
        "hidden2 = Dense(units= 100, activation= \"relu\") (drop1)\n",
        "drop2 = Dropout(rate = 0.5) (hidden2)"
      ],
      "execution_count": 0,
      "outputs": []
    },
    {
      "cell_type": "code",
      "metadata": {
        "id": "flst_gwmX5PA",
        "colab_type": "code",
        "colab": {}
      },
      "source": [
        "output = Dense(units= 10, activation= 'softmax') (drop2)"
      ],
      "execution_count": 0,
      "outputs": []
    },
    {
      "cell_type": "code",
      "metadata": {
        "id": "m8dyEHylYOr6",
        "colab_type": "code",
        "colab": {}
      },
      "source": [
        "model = Model(inputs = [input], outputs = [output])"
      ],
      "execution_count": 0,
      "outputs": []
    },
    {
      "cell_type": "code",
      "metadata": {
        "id": "OqECCREUYTCL",
        "colab_type": "code",
        "outputId": "08d59622-5b6d-47ef-c638-4dbe94bc81cf",
        "colab": {
          "base_uri": "https://localhost:8080/",
          "height": 1000
        }
      },
      "source": [
        "model.summary()"
      ],
      "execution_count": 174,
      "outputs": [
        {
          "output_type": "stream",
          "text": [
            "Model: \"model_12\"\n",
            "__________________________________________________________________________________________________\n",
            "Layer (type)                    Output Shape         Param #     Connected to                     \n",
            "==================================================================================================\n",
            "input_11 (InputLayer)           [(None, 40, 174, 1)] 0                                            \n",
            "__________________________________________________________________________________________________\n",
            "batch_normalization_41 (BatchNo (None, 40, 174, 1)   4           input_11[0][0]                   \n",
            "__________________________________________________________________________________________________\n",
            "conv2d_50 (Conv2D)              (None, 40, 174, 32)  320         batch_normalization_41[0][0]     \n",
            "__________________________________________________________________________________________________\n",
            "max_pooling2d_49 (MaxPooling2D) (None, 20, 87, 32)   0           conv2d_50[0][0]                  \n",
            "__________________________________________________________________________________________________\n",
            "batch_normalization_42 (BatchNo (None, 20, 87, 32)   128         max_pooling2d_49[0][0]           \n",
            "__________________________________________________________________________________________________\n",
            "batch_normalization_43 (BatchNo (None, 20, 87, 32)   128         max_pooling2d_49[0][0]           \n",
            "__________________________________________________________________________________________________\n",
            "batch_normalization_44 (BatchNo (None, 20, 87, 32)   128         max_pooling2d_49[0][0]           \n",
            "__________________________________________________________________________________________________\n",
            "conv2d_51 (Conv2D)              (None, 20, 87, 64)   18496       batch_normalization_42[0][0]     \n",
            "__________________________________________________________________________________________________\n",
            "conv2d_53 (Conv2D)              (None, 20, 87, 64)   51264       batch_normalization_43[0][0]     \n",
            "__________________________________________________________________________________________________\n",
            "conv2d_55 (Conv2D)              (None, 20, 87, 64)   100416      batch_normalization_44[0][0]     \n",
            "__________________________________________________________________________________________________\n",
            "conv2d_52 (Conv2D)              (None, 20, 87, 64)   36928       conv2d_51[0][0]                  \n",
            "__________________________________________________________________________________________________\n",
            "conv2d_54 (Conv2D)              (None, 20, 87, 64)   102464      conv2d_53[0][0]                  \n",
            "__________________________________________________________________________________________________\n",
            "conv2d_56 (Conv2D)              (None, 20, 87, 64)   200768      conv2d_55[0][0]                  \n",
            "__________________________________________________________________________________________________\n",
            "max_pooling2d_50 (MaxPooling2D) (None, 10, 44, 64)   0           conv2d_52[0][0]                  \n",
            "__________________________________________________________________________________________________\n",
            "max_pooling2d_51 (MaxPooling2D) (None, 10, 44, 64)   0           conv2d_54[0][0]                  \n",
            "__________________________________________________________________________________________________\n",
            "max_pooling2d_52 (MaxPooling2D) (None, 10, 44, 64)   0           conv2d_56[0][0]                  \n",
            "__________________________________________________________________________________________________\n",
            "flatten_25 (Flatten)            (None, 28160)        0           max_pooling2d_50[0][0]           \n",
            "__________________________________________________________________________________________________\n",
            "flatten_26 (Flatten)            (None, 28160)        0           max_pooling2d_51[0][0]           \n",
            "__________________________________________________________________________________________________\n",
            "flatten_27 (Flatten)            (None, 28160)        0           max_pooling2d_52[0][0]           \n",
            "__________________________________________________________________________________________________\n",
            "concatenate_8 (Concatenate)     (None, 84480)        0           flatten_25[0][0]                 \n",
            "                                                                 flatten_26[0][0]                 \n",
            "                                                                 flatten_27[0][0]                 \n",
            "__________________________________________________________________________________________________\n",
            "dense_36 (Dense)                (None, 100)          8448100     concatenate_8[0][0]              \n",
            "__________________________________________________________________________________________________\n",
            "dropout_24 (Dropout)            (None, 100)          0           dense_36[0][0]                   \n",
            "__________________________________________________________________________________________________\n",
            "dense_37 (Dense)                (None, 100)          10100       dropout_24[0][0]                 \n",
            "__________________________________________________________________________________________________\n",
            "dropout_25 (Dropout)            (None, 100)          0           dense_37[0][0]                   \n",
            "__________________________________________________________________________________________________\n",
            "dense_38 (Dense)                (None, 10)           1010        dropout_25[0][0]                 \n",
            "==================================================================================================\n",
            "Total params: 8,970,254\n",
            "Trainable params: 8,970,060\n",
            "Non-trainable params: 194\n",
            "__________________________________________________________________________________________________\n"
          ],
          "name": "stdout"
        }
      ]
    },
    {
      "cell_type": "code",
      "metadata": {
        "id": "cGyD_pvFZ7Mt",
        "colab_type": "code",
        "colab": {}
      },
      "source": [
        "model.compile(optimizer= 'adam', loss = 'categorical_crossentropy', metrics= ['accuracy'])"
      ],
      "execution_count": 0,
      "outputs": []
    },
    {
      "cell_type": "code",
      "metadata": {
        "id": "WyzdhsZDa2Bn",
        "colab_type": "code",
        "outputId": "55976e5e-c04b-4df6-e0c9-aa960193f72c",
        "colab": {
          "base_uri": "https://localhost:8080/",
          "height": 457
        }
      },
      "source": [
        "model.layers"
      ],
      "execution_count": 176,
      "outputs": [
        {
          "output_type": "execute_result",
          "data": {
            "text/plain": [
              "[<tensorflow.python.keras.engine.input_layer.InputLayer at 0x7f26d9ba8ac8>,\n",
              " <tensorflow.python.keras.layers.normalization.BatchNormalization at 0x7f26d9a80860>,\n",
              " <tensorflow.python.keras.layers.convolutional.Conv2D at 0x7f26d9a806d8>,\n",
              " <tensorflow.python.keras.layers.pooling.MaxPooling2D at 0x7f26d99fa1d0>,\n",
              " <tensorflow.python.keras.layers.normalization.BatchNormalization at 0x7f26d98ce048>,\n",
              " <tensorflow.python.keras.layers.normalization.BatchNormalization at 0x7f26d9826358>,\n",
              " <tensorflow.python.keras.layers.normalization.BatchNormalization at 0x7f26d972b6a0>,\n",
              " <tensorflow.python.keras.layers.convolutional.Conv2D at 0x7f26d9934e10>,\n",
              " <tensorflow.python.keras.layers.convolutional.Conv2D at 0x7f26d9826048>,\n",
              " <tensorflow.python.keras.layers.convolutional.Conv2D at 0x7f26d972b2b0>,\n",
              " <tensorflow.python.keras.layers.convolutional.Conv2D at 0x7f26d98ce358>,\n",
              " <tensorflow.python.keras.layers.convolutional.Conv2D at 0x7f26d9826e10>,\n",
              " <tensorflow.python.keras.layers.convolutional.Conv2D at 0x7f26d972be10>,\n",
              " <tensorflow.python.keras.layers.pooling.MaxPooling2D at 0x7f26d98b4940>,\n",
              " <tensorflow.python.keras.layers.pooling.MaxPooling2D at 0x7f26d97b8128>,\n",
              " <tensorflow.python.keras.layers.pooling.MaxPooling2D at 0x7f26d96b6b70>,\n",
              " <tensorflow.python.keras.layers.core.Flatten at 0x7f26d987d3c8>,\n",
              " <tensorflow.python.keras.layers.core.Flatten at 0x7f26d977c1d0>,\n",
              " <tensorflow.python.keras.layers.core.Flatten at 0x7f26d967f0b8>,\n",
              " <tensorflow.python.keras.layers.merge.Concatenate at 0x7f26d9b49b38>,\n",
              " <tensorflow.python.keras.layers.core.Dense at 0x7f26d6784908>,\n",
              " <tensorflow.python.keras.layers.core.Dropout at 0x7f26d6784c18>,\n",
              " <tensorflow.python.keras.layers.core.Dense at 0x7f26d67d9cf8>,\n",
              " <tensorflow.python.keras.layers.core.Dropout at 0x7f26d6744c18>,\n",
              " <tensorflow.python.keras.layers.core.Dense at 0x7f26d7305080>]"
            ]
          },
          "metadata": {
            "tags": []
          },
          "execution_count": 176
        }
      ]
    },
    {
      "cell_type": "code",
      "metadata": {
        "id": "IAk2fQgPa5xw",
        "colab_type": "code",
        "outputId": "ed872906-5cab-44e8-f0a3-6f88c34b650b",
        "colab": {
          "base_uri": "https://localhost:8080/",
          "height": 1000
        }
      },
      "source": [
        "history = model.fit(X_train, y_train, batch_size= 32, epochs= 50, validation_split= 0.2)"
      ],
      "execution_count": 177,
      "outputs": [
        {
          "output_type": "stream",
          "text": [
            "Train on 6315 samples, validate on 1579 samples\n",
            "Epoch 1/50\n",
            "6315/6315 [==============================] - 24s 4ms/sample - loss: 0.8991 - acc: 0.7102 - val_loss: 1.8193 - val_acc: 0.5890\n",
            "Epoch 2/50\n",
            "6315/6315 [==============================] - 22s 3ms/sample - loss: 0.2942 - acc: 0.9070 - val_loss: 2.0046 - val_acc: 0.5997\n",
            "Epoch 3/50\n",
            "6315/6315 [==============================] - 22s 3ms/sample - loss: 0.1748 - acc: 0.9504 - val_loss: 2.6316 - val_acc: 0.5731\n",
            "Epoch 4/50\n",
            "6315/6315 [==============================] - 22s 3ms/sample - loss: 0.1431 - acc: 0.9617 - val_loss: 2.5262 - val_acc: 0.6035\n",
            "Epoch 5/50\n",
            "6315/6315 [==============================] - 22s 3ms/sample - loss: 0.0979 - acc: 0.9696 - val_loss: 2.9650 - val_acc: 0.5839\n",
            "Epoch 6/50\n",
            "6315/6315 [==============================] - 22s 3ms/sample - loss: 0.0976 - acc: 0.9723 - val_loss: 3.2556 - val_acc: 0.5820\n",
            "Epoch 7/50\n",
            "6315/6315 [==============================] - 22s 3ms/sample - loss: 0.0820 - acc: 0.9764 - val_loss: 2.9177 - val_acc: 0.5896\n",
            "Epoch 8/50\n",
            "6315/6315 [==============================] - 22s 3ms/sample - loss: 0.0749 - acc: 0.9810 - val_loss: 3.1814 - val_acc: 0.5953\n",
            "Epoch 9/50\n",
            "6315/6315 [==============================] - 22s 3ms/sample - loss: 0.0484 - acc: 0.9870 - val_loss: 3.0434 - val_acc: 0.6029\n",
            "Epoch 10/50\n",
            "6315/6315 [==============================] - 22s 3ms/sample - loss: 0.0654 - acc: 0.9804 - val_loss: 3.1630 - val_acc: 0.6086\n",
            "Epoch 11/50\n",
            "6315/6315 [==============================] - 22s 3ms/sample - loss: 0.0973 - acc: 0.9762 - val_loss: 2.9324 - val_acc: 0.5852\n",
            "Epoch 12/50\n",
            "6315/6315 [==============================] - 22s 3ms/sample - loss: 0.0655 - acc: 0.9813 - val_loss: 4.2520 - val_acc: 0.5731\n",
            "Epoch 13/50\n",
            "6315/6315 [==============================] - 22s 3ms/sample - loss: 0.0614 - acc: 0.9834 - val_loss: 3.9227 - val_acc: 0.5788\n",
            "Epoch 14/50\n",
            "6315/6315 [==============================] - 22s 3ms/sample - loss: 0.0582 - acc: 0.9861 - val_loss: 3.5023 - val_acc: 0.5782\n",
            "Epoch 15/50\n",
            "6315/6315 [==============================] - 22s 3ms/sample - loss: 0.0469 - acc: 0.9888 - val_loss: 3.5096 - val_acc: 0.6061\n",
            "Epoch 16/50\n",
            "6315/6315 [==============================] - 22s 3ms/sample - loss: 0.0493 - acc: 0.9880 - val_loss: 3.4511 - val_acc: 0.5972\n",
            "Epoch 17/50\n",
            "6315/6315 [==============================] - 22s 3ms/sample - loss: 0.0481 - acc: 0.9876 - val_loss: 3.4622 - val_acc: 0.5801\n",
            "Epoch 18/50\n",
            "6315/6315 [==============================] - 22s 3ms/sample - loss: 0.0465 - acc: 0.9873 - val_loss: 3.4219 - val_acc: 0.6048\n",
            "Epoch 19/50\n",
            "6315/6315 [==============================] - 22s 3ms/sample - loss: 0.0349 - acc: 0.9899 - val_loss: 5.0523 - val_acc: 0.5560\n",
            "Epoch 20/50\n",
            "6315/6315 [==============================] - 22s 3ms/sample - loss: 0.0487 - acc: 0.9883 - val_loss: 3.7611 - val_acc: 0.6016\n",
            "Epoch 21/50\n",
            "6315/6315 [==============================] - 22s 3ms/sample - loss: 0.0594 - acc: 0.9876 - val_loss: 3.6350 - val_acc: 0.5833\n",
            "Epoch 22/50\n",
            "6315/6315 [==============================] - 22s 3ms/sample - loss: 0.0458 - acc: 0.9880 - val_loss: 4.1463 - val_acc: 0.5769\n",
            "Epoch 23/50\n",
            "6315/6315 [==============================] - 22s 3ms/sample - loss: 0.0362 - acc: 0.9899 - val_loss: 4.4095 - val_acc: 0.5725\n",
            "Epoch 24/50\n",
            "6315/6315 [==============================] - 22s 3ms/sample - loss: 0.0382 - acc: 0.9908 - val_loss: 4.7345 - val_acc: 0.5978\n",
            "Epoch 25/50\n",
            "6315/6315 [==============================] - 22s 3ms/sample - loss: 0.0510 - acc: 0.9870 - val_loss: 3.4926 - val_acc: 0.6010\n",
            "Epoch 26/50\n",
            "6315/6315 [==============================] - 22s 3ms/sample - loss: 0.0544 - acc: 0.9883 - val_loss: 3.4713 - val_acc: 0.6042\n",
            "Epoch 27/50\n",
            "6315/6315 [==============================] - 22s 3ms/sample - loss: 0.0386 - acc: 0.9907 - val_loss: 3.8685 - val_acc: 0.5966\n",
            "Epoch 28/50\n",
            "6315/6315 [==============================] - 22s 3ms/sample - loss: 0.0240 - acc: 0.9943 - val_loss: 4.3486 - val_acc: 0.5630\n",
            "Epoch 29/50\n",
            "6315/6315 [==============================] - 22s 3ms/sample - loss: 0.0336 - acc: 0.9918 - val_loss: 4.1952 - val_acc: 0.5915\n",
            "Epoch 30/50\n",
            "6315/6315 [==============================] - 22s 3ms/sample - loss: 0.0342 - acc: 0.9899 - val_loss: 3.9169 - val_acc: 0.6111\n",
            "Epoch 31/50\n",
            "6315/6315 [==============================] - 22s 4ms/sample - loss: 0.0280 - acc: 0.9927 - val_loss: 3.8712 - val_acc: 0.6010\n",
            "Epoch 32/50\n",
            "6315/6315 [==============================] - 22s 3ms/sample - loss: 0.0373 - acc: 0.9911 - val_loss: 4.1872 - val_acc: 0.5738\n",
            "Epoch 33/50\n",
            "6315/6315 [==============================] - 22s 3ms/sample - loss: 0.0337 - acc: 0.9924 - val_loss: 4.3460 - val_acc: 0.5972\n",
            "Epoch 34/50\n",
            "6315/6315 [==============================] - 22s 3ms/sample - loss: 0.0564 - acc: 0.9862 - val_loss: 3.7062 - val_acc: 0.5858\n",
            "Epoch 35/50\n",
            "6315/6315 [==============================] - 22s 3ms/sample - loss: 0.0408 - acc: 0.9895 - val_loss: 4.0576 - val_acc: 0.5934\n",
            "Epoch 36/50\n",
            "6315/6315 [==============================] - 22s 3ms/sample - loss: 0.0232 - acc: 0.9937 - val_loss: 4.0962 - val_acc: 0.5877\n",
            "Epoch 37/50\n",
            "6315/6315 [==============================] - 22s 3ms/sample - loss: 0.0321 - acc: 0.9933 - val_loss: 4.1414 - val_acc: 0.5826\n",
            "Epoch 38/50\n",
            "6315/6315 [==============================] - 22s 3ms/sample - loss: 0.0510 - acc: 0.9880 - val_loss: 3.5978 - val_acc: 0.5902\n",
            "Epoch 39/50\n",
            "6315/6315 [==============================] - 22s 3ms/sample - loss: 0.0356 - acc: 0.9895 - val_loss: 3.6042 - val_acc: 0.5997\n",
            "Epoch 40/50\n",
            "6315/6315 [==============================] - 22s 3ms/sample - loss: 0.0381 - acc: 0.9902 - val_loss: 3.9810 - val_acc: 0.5769\n",
            "Epoch 41/50\n",
            "6315/6315 [==============================] - 22s 3ms/sample - loss: 0.0401 - acc: 0.9921 - val_loss: 3.7424 - val_acc: 0.5807\n",
            "Epoch 42/50\n",
            "6315/6315 [==============================] - 22s 3ms/sample - loss: 0.0356 - acc: 0.9921 - val_loss: 3.9872 - val_acc: 0.5731\n",
            "Epoch 43/50\n",
            "6315/6315 [==============================] - 22s 3ms/sample - loss: 0.0328 - acc: 0.9919 - val_loss: 3.9265 - val_acc: 0.5852\n",
            "Epoch 44/50\n",
            "6315/6315 [==============================] - 22s 3ms/sample - loss: 0.0308 - acc: 0.9927 - val_loss: 4.4840 - val_acc: 0.5940\n",
            "Epoch 45/50\n",
            "6315/6315 [==============================] - 22s 3ms/sample - loss: 0.0204 - acc: 0.9949 - val_loss: 3.9826 - val_acc: 0.5769\n",
            "Epoch 46/50\n",
            "6315/6315 [==============================] - 22s 3ms/sample - loss: 0.0326 - acc: 0.9921 - val_loss: 3.5558 - val_acc: 0.5845\n",
            "Epoch 47/50\n",
            "6315/6315 [==============================] - 22s 3ms/sample - loss: 0.0455 - acc: 0.9894 - val_loss: 4.7862 - val_acc: 0.5921\n",
            "Epoch 48/50\n",
            "6315/6315 [==============================] - 22s 3ms/sample - loss: 0.0456 - acc: 0.9908 - val_loss: 3.0680 - val_acc: 0.6061\n",
            "Epoch 49/50\n",
            "6315/6315 [==============================] - 22s 3ms/sample - loss: 0.0311 - acc: 0.9930 - val_loss: 3.8071 - val_acc: 0.6111\n",
            "Epoch 50/50\n",
            "6315/6315 [==============================] - 22s 3ms/sample - loss: 0.0318 - acc: 0.9940 - val_loss: 4.1412 - val_acc: 0.5934\n"
          ],
          "name": "stdout"
        }
      ]
    },
    {
      "cell_type": "code",
      "metadata": {
        "id": "NrOv2dagbaAU",
        "colab_type": "code",
        "outputId": "08406ffb-da2e-4114-93df-b1b49d1a6604",
        "colab": {
          "base_uri": "https://localhost:8080/",
          "height": 52
        }
      },
      "source": [
        "model.evaluate(X_test, y_test)"
      ],
      "execution_count": 178,
      "outputs": [
        {
          "output_type": "stream",
          "text": [
            "836/836 [==============================] - 1s 1ms/sample - loss: 2.0568 - acc: 0.7488\n"
          ],
          "name": "stdout"
        },
        {
          "output_type": "execute_result",
          "data": {
            "text/plain": [
              "[2.056849716481882, 0.74880385]"
            ]
          },
          "metadata": {
            "tags": []
          },
          "execution_count": 178
        }
      ]
    },
    {
      "cell_type": "code",
      "metadata": {
        "id": "aGmAuTfLcBA2",
        "colab_type": "code",
        "outputId": "a76617c8-3a4a-4b72-b1a5-6548ac8ec855",
        "colab": {
          "base_uri": "https://localhost:8080/",
          "height": 613
        }
      },
      "source": [
        "pd.DataFrame(history.history).plot(figsize=(10,10))"
      ],
      "execution_count": 179,
      "outputs": [
        {
          "output_type": "execute_result",
          "data": {
            "text/plain": [
              "<matplotlib.axes._subplots.AxesSubplot at 0x7f26d5c53128>"
            ]
          },
          "metadata": {
            "tags": []
          },
          "execution_count": 179
        },
        {
          "output_type": "display_data",
          "data": {
            "image/png": "[encoded data removed]",
            "text/plain": [
              "<Figure size 720x720 with 1 Axes>"
            ]
          },
          "metadata": {
            "tags": []
          }
        }
      ]
    },
    {
      "cell_type": "code",
      "metadata": {
        "id": "DAxjMnTBhsbS",
        "colab_type": "code",
        "colab": {}
      },
      "source": [
        ""
      ],
      "execution_count": 0,
      "outputs": []
    }
  ]
}